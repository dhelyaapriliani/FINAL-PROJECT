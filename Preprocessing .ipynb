{
 "cells": [
  {
   "cell_type": "code",
   "execution_count": 114,
   "id": "3309ce32",
   "metadata": {},
   "outputs": [],
   "source": [
    "#Import pandas & numpy\n",
    "import pandas as pd\n",
    "import numpy as np\n",
    "from PIL import Image \n",
    "import matplotlib.pyplot as plt\n",
    "import seaborn as sns"
   ]
  },
  {
   "cell_type": "code",
   "execution_count": 115,
   "id": "676583fa",
   "metadata": {},
   "outputs": [],
   "source": [
    "#import file\n",
    "df_can = pd.read_excel('rideshare_kaggle.xlsx')\n",
    "sheet_name = ('rideshare_kaggle')"
   ]
  },
  {
   "cell_type": "code",
   "execution_count": 116,
   "id": "5ef64e2b",
   "metadata": {},
   "outputs": [
    {
     "data": {
      "text/html": [
       "<div>\n",
       "<style scoped>\n",
       "    .dataframe tbody tr th:only-of-type {\n",
       "        vertical-align: middle;\n",
       "    }\n",
       "\n",
       "    .dataframe tbody tr th {\n",
       "        vertical-align: top;\n",
       "    }\n",
       "\n",
       "    .dataframe thead th {\n",
       "        text-align: right;\n",
       "    }\n",
       "</style>\n",
       "<table border=\"1\" class=\"dataframe\">\n",
       "  <thead>\n",
       "    <tr style=\"text-align: right;\">\n",
       "      <th></th>\n",
       "      <th>id</th>\n",
       "      <th>timestamp</th>\n",
       "      <th>hour</th>\n",
       "      <th>day</th>\n",
       "      <th>month</th>\n",
       "      <th>datetime</th>\n",
       "      <th>timezone</th>\n",
       "      <th>source</th>\n",
       "      <th>destination</th>\n",
       "      <th>cab_type</th>\n",
       "      <th>...</th>\n",
       "      <th>precipIntensityMax</th>\n",
       "      <th>uvIndexTime</th>\n",
       "      <th>temperatureMin</th>\n",
       "      <th>temperatureMinTime</th>\n",
       "      <th>temperatureMax</th>\n",
       "      <th>temperatureMaxTime</th>\n",
       "      <th>apparentTemperatureMin</th>\n",
       "      <th>apparentTemperatureMinTime</th>\n",
       "      <th>apparentTemperatureMax</th>\n",
       "      <th>apparentTemperatureMaxTime</th>\n",
       "    </tr>\n",
       "  </thead>\n",
       "  <tbody>\n",
       "    <tr>\n",
       "      <th>0</th>\n",
       "      <td>424553bb-7174-41ea-aeb4-fe06d4f4b9d7</td>\n",
       "      <td>1.544953e+09</td>\n",
       "      <td>9</td>\n",
       "      <td>16</td>\n",
       "      <td>12</td>\n",
       "      <td>2018-12-16 09:30:07</td>\n",
       "      <td>America/New_York</td>\n",
       "      <td>Haymarket Square</td>\n",
       "      <td>North Station</td>\n",
       "      <td>Lyft</td>\n",
       "      <td>...</td>\n",
       "      <td>0.1276</td>\n",
       "      <td>1544979600</td>\n",
       "      <td>39.89</td>\n",
       "      <td>1545012000</td>\n",
       "      <td>43.68</td>\n",
       "      <td>1544968800</td>\n",
       "      <td>33.73</td>\n",
       "      <td>1545012000</td>\n",
       "      <td>38.07</td>\n",
       "      <td>1544958000</td>\n",
       "    </tr>\n",
       "    <tr>\n",
       "      <th>1</th>\n",
       "      <td>4bd23055-6827-41c6-b23b-3c491f24e74d</td>\n",
       "      <td>1.543284e+09</td>\n",
       "      <td>2</td>\n",
       "      <td>27</td>\n",
       "      <td>11</td>\n",
       "      <td>2018-11-27 02:00:23</td>\n",
       "      <td>America/New_York</td>\n",
       "      <td>Haymarket Square</td>\n",
       "      <td>North Station</td>\n",
       "      <td>Lyft</td>\n",
       "      <td>...</td>\n",
       "      <td>0.1300</td>\n",
       "      <td>1543251600</td>\n",
       "      <td>40.49</td>\n",
       "      <td>1543233600</td>\n",
       "      <td>47.30</td>\n",
       "      <td>1543251600</td>\n",
       "      <td>36.20</td>\n",
       "      <td>1543291200</td>\n",
       "      <td>43.92</td>\n",
       "      <td>1543251600</td>\n",
       "    </tr>\n",
       "    <tr>\n",
       "      <th>2</th>\n",
       "      <td>981a3613-77af-4620-a42a-0c0866077d1e</td>\n",
       "      <td>1.543367e+09</td>\n",
       "      <td>1</td>\n",
       "      <td>28</td>\n",
       "      <td>11</td>\n",
       "      <td>2018-11-28 01:00:22</td>\n",
       "      <td>America/New_York</td>\n",
       "      <td>Haymarket Square</td>\n",
       "      <td>North Station</td>\n",
       "      <td>Lyft</td>\n",
       "      <td>...</td>\n",
       "      <td>0.1064</td>\n",
       "      <td>1543338000</td>\n",
       "      <td>35.36</td>\n",
       "      <td>1543377600</td>\n",
       "      <td>47.55</td>\n",
       "      <td>1543320000</td>\n",
       "      <td>31.04</td>\n",
       "      <td>1543377600</td>\n",
       "      <td>44.12</td>\n",
       "      <td>1543320000</td>\n",
       "    </tr>\n",
       "    <tr>\n",
       "      <th>3</th>\n",
       "      <td>c2d88af2-d278-4bfd-a8d0-29ca77cc5512</td>\n",
       "      <td>1.543554e+09</td>\n",
       "      <td>4</td>\n",
       "      <td>30</td>\n",
       "      <td>11</td>\n",
       "      <td>2018-11-30 04:53:02</td>\n",
       "      <td>America/New_York</td>\n",
       "      <td>Haymarket Square</td>\n",
       "      <td>North Station</td>\n",
       "      <td>Lyft</td>\n",
       "      <td>...</td>\n",
       "      <td>0.0000</td>\n",
       "      <td>1543507200</td>\n",
       "      <td>34.67</td>\n",
       "      <td>1543550400</td>\n",
       "      <td>45.03</td>\n",
       "      <td>1543510800</td>\n",
       "      <td>30.30</td>\n",
       "      <td>1543550400</td>\n",
       "      <td>38.53</td>\n",
       "      <td>1543510800</td>\n",
       "    </tr>\n",
       "    <tr>\n",
       "      <th>4</th>\n",
       "      <td>e0126e1f-8ca9-4f2e-82b3-50505a09db9a</td>\n",
       "      <td>1.543463e+09</td>\n",
       "      <td>3</td>\n",
       "      <td>29</td>\n",
       "      <td>11</td>\n",
       "      <td>2018-11-29 03:49:20</td>\n",
       "      <td>America/New_York</td>\n",
       "      <td>Haymarket Square</td>\n",
       "      <td>North Station</td>\n",
       "      <td>Lyft</td>\n",
       "      <td>...</td>\n",
       "      <td>0.0001</td>\n",
       "      <td>1543420800</td>\n",
       "      <td>33.10</td>\n",
       "      <td>1543402800</td>\n",
       "      <td>42.18</td>\n",
       "      <td>1543420800</td>\n",
       "      <td>29.11</td>\n",
       "      <td>1543392000</td>\n",
       "      <td>35.75</td>\n",
       "      <td>1543420800</td>\n",
       "    </tr>\n",
       "  </tbody>\n",
       "</table>\n",
       "<p>5 rows × 57 columns</p>\n",
       "</div>"
      ],
      "text/plain": [
       "                                     id     timestamp  hour  day  month  \\\n",
       "0  424553bb-7174-41ea-aeb4-fe06d4f4b9d7  1.544953e+09     9   16     12   \n",
       "1  4bd23055-6827-41c6-b23b-3c491f24e74d  1.543284e+09     2   27     11   \n",
       "2  981a3613-77af-4620-a42a-0c0866077d1e  1.543367e+09     1   28     11   \n",
       "3  c2d88af2-d278-4bfd-a8d0-29ca77cc5512  1.543554e+09     4   30     11   \n",
       "4  e0126e1f-8ca9-4f2e-82b3-50505a09db9a  1.543463e+09     3   29     11   \n",
       "\n",
       "             datetime          timezone            source    destination  \\\n",
       "0 2018-12-16 09:30:07  America/New_York  Haymarket Square  North Station   \n",
       "1 2018-11-27 02:00:23  America/New_York  Haymarket Square  North Station   \n",
       "2 2018-11-28 01:00:22  America/New_York  Haymarket Square  North Station   \n",
       "3 2018-11-30 04:53:02  America/New_York  Haymarket Square  North Station   \n",
       "4 2018-11-29 03:49:20  America/New_York  Haymarket Square  North Station   \n",
       "\n",
       "  cab_type  ... precipIntensityMax uvIndexTime  temperatureMin  \\\n",
       "0     Lyft  ...             0.1276  1544979600           39.89   \n",
       "1     Lyft  ...             0.1300  1543251600           40.49   \n",
       "2     Lyft  ...             0.1064  1543338000           35.36   \n",
       "3     Lyft  ...             0.0000  1543507200           34.67   \n",
       "4     Lyft  ...             0.0001  1543420800           33.10   \n",
       "\n",
       "   temperatureMinTime  temperatureMax  temperatureMaxTime  \\\n",
       "0          1545012000           43.68          1544968800   \n",
       "1          1543233600           47.30          1543251600   \n",
       "2          1543377600           47.55          1543320000   \n",
       "3          1543550400           45.03          1543510800   \n",
       "4          1543402800           42.18          1543420800   \n",
       "\n",
       "   apparentTemperatureMin  apparentTemperatureMinTime  apparentTemperatureMax  \\\n",
       "0                   33.73                  1545012000                   38.07   \n",
       "1                   36.20                  1543291200                   43.92   \n",
       "2                   31.04                  1543377600                   44.12   \n",
       "3                   30.30                  1543550400                   38.53   \n",
       "4                   29.11                  1543392000                   35.75   \n",
       "\n",
       "  apparentTemperatureMaxTime  \n",
       "0                 1544958000  \n",
       "1                 1543251600  \n",
       "2                 1543320000  \n",
       "3                 1543510800  \n",
       "4                 1543420800  \n",
       "\n",
       "[5 rows x 57 columns]"
      ]
     },
     "execution_count": 116,
     "metadata": {},
     "output_type": "execute_result"
    }
   ],
   "source": [
    "#lima item pertama dalam dataset\n",
    "df_can.head()"
   ]
  },
  {
   "cell_type": "code",
   "execution_count": 117,
   "id": "69b52a75",
   "metadata": {},
   "outputs": [
    {
     "data": {
      "text/html": [
       "<div>\n",
       "<style scoped>\n",
       "    .dataframe tbody tr th:only-of-type {\n",
       "        vertical-align: middle;\n",
       "    }\n",
       "\n",
       "    .dataframe tbody tr th {\n",
       "        vertical-align: top;\n",
       "    }\n",
       "\n",
       "    .dataframe thead th {\n",
       "        text-align: right;\n",
       "    }\n",
       "</style>\n",
       "<table border=\"1\" class=\"dataframe\">\n",
       "  <thead>\n",
       "    <tr style=\"text-align: right;\">\n",
       "      <th></th>\n",
       "      <th>id</th>\n",
       "      <th>timestamp</th>\n",
       "      <th>hour</th>\n",
       "      <th>day</th>\n",
       "      <th>month</th>\n",
       "      <th>datetime</th>\n",
       "      <th>timezone</th>\n",
       "      <th>source</th>\n",
       "      <th>destination</th>\n",
       "      <th>cab_type</th>\n",
       "      <th>...</th>\n",
       "      <th>precipIntensityMax</th>\n",
       "      <th>uvIndexTime</th>\n",
       "      <th>temperatureMin</th>\n",
       "      <th>temperatureMinTime</th>\n",
       "      <th>temperatureMax</th>\n",
       "      <th>temperatureMaxTime</th>\n",
       "      <th>apparentTemperatureMin</th>\n",
       "      <th>apparentTemperatureMinTime</th>\n",
       "      <th>apparentTemperatureMax</th>\n",
       "      <th>apparentTemperatureMaxTime</th>\n",
       "    </tr>\n",
       "  </thead>\n",
       "  <tbody>\n",
       "    <tr>\n",
       "      <th>65530</th>\n",
       "      <td>232eb0c9-72cf-47f8-9f3f-525606be2a4f</td>\n",
       "      <td>1.543299e+09</td>\n",
       "      <td>6</td>\n",
       "      <td>27</td>\n",
       "      <td>11</td>\n",
       "      <td>2018-11-27 06:12:22</td>\n",
       "      <td>America/New_York</td>\n",
       "      <td>North Station</td>\n",
       "      <td>North End</td>\n",
       "      <td>Uber</td>\n",
       "      <td>...</td>\n",
       "      <td>0.1064</td>\n",
       "      <td>1543338000</td>\n",
       "      <td>35.36</td>\n",
       "      <td>1543377600</td>\n",
       "      <td>47.55</td>\n",
       "      <td>1543320000</td>\n",
       "      <td>31.04</td>\n",
       "      <td>1543377600</td>\n",
       "      <td>44.12</td>\n",
       "      <td>1543320000</td>\n",
       "    </tr>\n",
       "    <tr>\n",
       "      <th>65531</th>\n",
       "      <td>37d33188-3c69-48bc-826f-9353bc021ca7</td>\n",
       "      <td>1.543418e+09</td>\n",
       "      <td>15</td>\n",
       "      <td>28</td>\n",
       "      <td>11</td>\n",
       "      <td>2018-11-28 15:16:24</td>\n",
       "      <td>America/New_York</td>\n",
       "      <td>North Station</td>\n",
       "      <td>North End</td>\n",
       "      <td>Uber</td>\n",
       "      <td>...</td>\n",
       "      <td>0.0000</td>\n",
       "      <td>1543420800</td>\n",
       "      <td>33.70</td>\n",
       "      <td>1543399200</td>\n",
       "      <td>42.60</td>\n",
       "      <td>1543438800</td>\n",
       "      <td>29.88</td>\n",
       "      <td>1543399200</td>\n",
       "      <td>36.56</td>\n",
       "      <td>1543435200</td>\n",
       "    </tr>\n",
       "    <tr>\n",
       "      <th>65532</th>\n",
       "      <td>3ce7799b-dfd4-46a9-8f08-d53919a6c027</td>\n",
       "      <td>1.543292e+09</td>\n",
       "      <td>4</td>\n",
       "      <td>27</td>\n",
       "      <td>11</td>\n",
       "      <td>2018-11-27 04:06:22</td>\n",
       "      <td>America/New_York</td>\n",
       "      <td>North Station</td>\n",
       "      <td>North End</td>\n",
       "      <td>Uber</td>\n",
       "      <td>...</td>\n",
       "      <td>0.1227</td>\n",
       "      <td>1543251600</td>\n",
       "      <td>40.35</td>\n",
       "      <td>1543233600</td>\n",
       "      <td>46.59</td>\n",
       "      <td>1543255200</td>\n",
       "      <td>36.96</td>\n",
       "      <td>1543291200</td>\n",
       "      <td>43.97</td>\n",
       "      <td>1543251600</td>\n",
       "    </tr>\n",
       "    <tr>\n",
       "      <th>65533</th>\n",
       "      <td>66a7e081-08c1-49c3-904e-e6cdce5d719e</td>\n",
       "      <td>1.544893e+09</td>\n",
       "      <td>16</td>\n",
       "      <td>15</td>\n",
       "      <td>12</td>\n",
       "      <td>2018-12-15 16:50:10</td>\n",
       "      <td>America/New_York</td>\n",
       "      <td>North Station</td>\n",
       "      <td>North End</td>\n",
       "      <td>Uber</td>\n",
       "      <td>...</td>\n",
       "      <td>0.0075</td>\n",
       "      <td>1544893200</td>\n",
       "      <td>39.78</td>\n",
       "      <td>1544929200</td>\n",
       "      <td>54.40</td>\n",
       "      <td>1544896800</td>\n",
       "      <td>36.64</td>\n",
       "      <td>1544929200</td>\n",
       "      <td>53.73</td>\n",
       "      <td>1544896800</td>\n",
       "    </tr>\n",
       "    <tr>\n",
       "      <th>65534</th>\n",
       "      <td>69bdfa7a-a1ca-4b0f-a88c-215a611efea2</td>\n",
       "      <td>1.543324e+09</td>\n",
       "      <td>13</td>\n",
       "      <td>27</td>\n",
       "      <td>11</td>\n",
       "      <td>2018-11-27 13:12:22</td>\n",
       "      <td>America/New_York</td>\n",
       "      <td>North Station</td>\n",
       "      <td>North End</td>\n",
       "      <td>Uber</td>\n",
       "      <td>...</td>\n",
       "      <td>0.1429</td>\n",
       "      <td>1543338000</td>\n",
       "      <td>36.37</td>\n",
       "      <td>1543377600</td>\n",
       "      <td>47.06</td>\n",
       "      <td>1543320000</td>\n",
       "      <td>32.40</td>\n",
       "      <td>1543377600</td>\n",
       "      <td>44.15</td>\n",
       "      <td>1543320000</td>\n",
       "    </tr>\n",
       "  </tbody>\n",
       "</table>\n",
       "<p>5 rows × 57 columns</p>\n",
       "</div>"
      ],
      "text/plain": [
       "                                         id     timestamp  hour  day  month  \\\n",
       "65530  232eb0c9-72cf-47f8-9f3f-525606be2a4f  1.543299e+09     6   27     11   \n",
       "65531  37d33188-3c69-48bc-826f-9353bc021ca7  1.543418e+09    15   28     11   \n",
       "65532  3ce7799b-dfd4-46a9-8f08-d53919a6c027  1.543292e+09     4   27     11   \n",
       "65533  66a7e081-08c1-49c3-904e-e6cdce5d719e  1.544893e+09    16   15     12   \n",
       "65534  69bdfa7a-a1ca-4b0f-a88c-215a611efea2  1.543324e+09    13   27     11   \n",
       "\n",
       "                 datetime          timezone         source destination  \\\n",
       "65530 2018-11-27 06:12:22  America/New_York  North Station   North End   \n",
       "65531 2018-11-28 15:16:24  America/New_York  North Station   North End   \n",
       "65532 2018-11-27 04:06:22  America/New_York  North Station   North End   \n",
       "65533 2018-12-15 16:50:10  America/New_York  North Station   North End   \n",
       "65534 2018-11-27 13:12:22  America/New_York  North Station   North End   \n",
       "\n",
       "      cab_type  ... precipIntensityMax uvIndexTime  temperatureMin  \\\n",
       "65530     Uber  ...             0.1064  1543338000           35.36   \n",
       "65531     Uber  ...             0.0000  1543420800           33.70   \n",
       "65532     Uber  ...             0.1227  1543251600           40.35   \n",
       "65533     Uber  ...             0.0075  1544893200           39.78   \n",
       "65534     Uber  ...             0.1429  1543338000           36.37   \n",
       "\n",
       "       temperatureMinTime  temperatureMax  temperatureMaxTime  \\\n",
       "65530          1543377600           47.55          1543320000   \n",
       "65531          1543399200           42.60          1543438800   \n",
       "65532          1543233600           46.59          1543255200   \n",
       "65533          1544929200           54.40          1544896800   \n",
       "65534          1543377600           47.06          1543320000   \n",
       "\n",
       "       apparentTemperatureMin  apparentTemperatureMinTime  \\\n",
       "65530                   31.04                  1543377600   \n",
       "65531                   29.88                  1543399200   \n",
       "65532                   36.96                  1543291200   \n",
       "65533                   36.64                  1544929200   \n",
       "65534                   32.40                  1543377600   \n",
       "\n",
       "       apparentTemperatureMax apparentTemperatureMaxTime  \n",
       "65530                   44.12                 1543320000  \n",
       "65531                   36.56                 1543435200  \n",
       "65532                   43.97                 1543251600  \n",
       "65533                   53.73                 1544896800  \n",
       "65534                   44.15                 1543320000  \n",
       "\n",
       "[5 rows x 57 columns]"
      ]
     },
     "execution_count": 117,
     "metadata": {},
     "output_type": "execute_result"
    }
   ],
   "source": [
    "#5 item terakhir dalam datset\n",
    "df_can.tail()"
   ]
  },
  {
   "cell_type": "code",
   "execution_count": 118,
   "id": "7367de81",
   "metadata": {},
   "outputs": [
    {
     "name": "stdout",
     "output_type": "stream",
     "text": [
      "<class 'pandas.core.frame.DataFrame'>\n",
      "RangeIndex: 65535 entries, 0 to 65534\n",
      "Data columns (total 57 columns):\n",
      " #   Column                       Non-Null Count  Dtype         \n",
      "---  ------                       --------------  -----         \n",
      " 0   id                           65535 non-null  object        \n",
      " 1   timestamp                    65535 non-null  float64       \n",
      " 2   hour                         65535 non-null  int64         \n",
      " 3   day                          65535 non-null  int64         \n",
      " 4   month                        65535 non-null  int64         \n",
      " 5   datetime                     65535 non-null  datetime64[ns]\n",
      " 6   timezone                     65535 non-null  object        \n",
      " 7   source                       65535 non-null  object        \n",
      " 8   destination                  65535 non-null  object        \n",
      " 9   cab_type                     65535 non-null  object        \n",
      " 10  product_id                   65535 non-null  object        \n",
      " 11  name                         65535 non-null  object        \n",
      " 12  price                        60392 non-null  float64       \n",
      " 13  distance                     65535 non-null  float64       \n",
      " 14  surge_multiplier             65535 non-null  float64       \n",
      " 15  latitude                     65535 non-null  float64       \n",
      " 16  longitude                    65535 non-null  float64       \n",
      " 17  temperature                  65535 non-null  float64       \n",
      " 18  apparentTemperature          65535 non-null  float64       \n",
      " 19  short_summary                65535 non-null  object        \n",
      " 20  long_summary                 65535 non-null  object        \n",
      " 21  precipIntensity              65535 non-null  float64       \n",
      " 22  precipProbability            65535 non-null  float64       \n",
      " 23  humidity                     65535 non-null  float64       \n",
      " 24  windSpeed                    65535 non-null  float64       \n",
      " 25  windGust                     65535 non-null  float64       \n",
      " 26  windGustTime                 65535 non-null  int64         \n",
      " 27  visibility                   65535 non-null  float64       \n",
      " 28  temperatureHigh              65535 non-null  float64       \n",
      " 29  temperatureHighTime          65535 non-null  int64         \n",
      " 30  temperatureLow               65535 non-null  float64       \n",
      " 31  temperatureLowTime           65535 non-null  int64         \n",
      " 32  apparentTemperatureHigh      65535 non-null  float64       \n",
      " 33  apparentTemperatureHighTime  65535 non-null  int64         \n",
      " 34  apparentTemperatureLow       65535 non-null  float64       \n",
      " 35  apparentTemperatureLowTime   65535 non-null  int64         \n",
      " 36  icon                         65535 non-null  object        \n",
      " 37  dewPoint                     65535 non-null  float64       \n",
      " 38  pressure                     65535 non-null  float64       \n",
      " 39  windBearing                  65535 non-null  int64         \n",
      " 40  cloudCover                   65535 non-null  float64       \n",
      " 41  uvIndex                      65535 non-null  int64         \n",
      " 42  visibility.1                 65535 non-null  float64       \n",
      " 43  ozone                        65535 non-null  float64       \n",
      " 44  sunriseTime                  65535 non-null  int64         \n",
      " 45  sunsetTime                   65535 non-null  int64         \n",
      " 46  moonPhase                    65535 non-null  float64       \n",
      " 47  precipIntensityMax           65535 non-null  float64       \n",
      " 48  uvIndexTime                  65535 non-null  int64         \n",
      " 49  temperatureMin               65535 non-null  float64       \n",
      " 50  temperatureMinTime           65535 non-null  int64         \n",
      " 51  temperatureMax               65535 non-null  float64       \n",
      " 52  temperatureMaxTime           65535 non-null  int64         \n",
      " 53  apparentTemperatureMin       65535 non-null  float64       \n",
      " 54  apparentTemperatureMinTime   65535 non-null  int64         \n",
      " 55  apparentTemperatureMax       65535 non-null  float64       \n",
      " 56  apparentTemperatureMaxTime   65535 non-null  int64         \n",
      "dtypes: datetime64[ns](1), float64(29), int64(17), object(10)\n",
      "memory usage: 28.5+ MB\n"
     ]
    }
   ],
   "source": [
    "df_can.info()"
   ]
  },
  {
   "cell_type": "code",
   "execution_count": 119,
   "id": "96039946",
   "metadata": {},
   "outputs": [
    {
     "name": "stdout",
     "output_type": "stream",
     "text": [
      "(65535, 57)\n"
     ]
    }
   ],
   "source": [
    "print(df_can.shape)"
   ]
  },
  {
   "cell_type": "code",
   "execution_count": 123,
   "id": "d0671779",
   "metadata": {},
   "outputs": [],
   "source": [
    "missing_values = df_can.isnull().sum()"
   ]
  },
  {
   "cell_type": "code",
   "execution_count": 124,
   "id": "6b68f2f7",
   "metadata": {},
   "outputs": [
    {
     "name": "stdout",
     "output_type": "stream",
     "text": [
      "price    5143\n",
      "dtype: int64\n"
     ]
    }
   ],
   "source": [
    "print(missing_values[missing_values > 0])"
   ]
  },
  {
   "cell_type": "code",
   "execution_count": 131,
   "id": "9513aded",
   "metadata": {},
   "outputs": [],
   "source": [
    "df_can.dropna(subset=['price'], inplace=True)"
   ]
  },
  {
   "cell_type": "code",
   "execution_count": 133,
   "id": "be146bf9",
   "metadata": {},
   "outputs": [
    {
     "name": "stdout",
     "output_type": "stream",
     "text": [
      "Columns with missing values:\n",
      "Series([], dtype: int64)\n"
     ]
    }
   ],
   "source": [
    "missing_values = df_can.isnull().sum()\n",
    "print(\"Columns with missing values:\")\n",
    "print(missing_values[missing_values > 0])"
   ]
  },
  {
   "cell_type": "code",
   "execution_count": 135,
   "id": "bff6a403",
   "metadata": {},
   "outputs": [
    {
     "name": "stdout",
     "output_type": "stream",
     "text": [
      "['Lyft' 'Uber']\n"
     ]
    }
   ],
   "source": [
    "unique_cab_types = df_can['cab_type'].unique()\n",
    "print(unique_cab_types)"
   ]
  },
  {
   "cell_type": "code",
   "execution_count": 139,
   "id": "0c0776a9",
   "metadata": {},
   "outputs": [],
   "source": [
    "hour_counts = df_can.groupby([df_can['timestamp'].dt.hour, 'cab_type'])['id'].count().unstack().fillna(0)"
   ]
  },
  {
   "cell_type": "code",
   "execution_count": 145,
   "id": "82ce2a2d",
   "metadata": {},
   "outputs": [
    {
     "data": {
      "image/png": "[encoded data removed]",
      "text/plain": [
       "<Figure size 1000x500 with 1 Axes>"
      ]
     },
     "metadata": {},
     "output_type": "display_data"
    }
   ],
   "source": [
    "plt.figure(figsize=(10, 5))\n",
    "sns.barplot(x=hour_counts.index, y=hour_counts['Uber'], label='Uber', color='red')\n",
    "sns.barplot(x=hour_counts.index, y=hour_counts['Lyft'], label='Lyft', color='black', alpha=0.7)\n",
    "plt.xlabel('Hour of the Day')\n",
    "plt.ylabel('Number of Rides')\n",
    "plt.title('Distribution of Rides by Hour')\n",
    "plt.legend()\n",
    "plt.show()"
   ]
  },
  {
   "cell_type": "code",
   "execution_count": 146,
   "id": "fdd84b61",
   "metadata": {},
   "outputs": [],
   "source": [
    "daily_counts = df_can.groupby([df_can['timestamp'].dt.day, 'cab_type'])['id'].count().unstack().fillna(0)"
   ]
  },
  {
   "cell_type": "code",
   "execution_count": 151,
   "id": "03600ff1",
   "metadata": {},
   "outputs": [
    {
     "data": {
      "image/png": "[encoded data removed]",
      "text/plain": [
       "<Figure size 1000x500 with 1 Axes>"
      ]
     },
     "metadata": {},
     "output_type": "display_data"
    }
   ],
   "source": [
    "plt.figure(figsize=(10, 5))\n",
    "sns.barplot(x=daily_counts.index, y=daily_counts['Uber'], label='Uber', color='black')\n",
    "sns.barplot(x=daily_counts.index, y=daily_counts['Lyft'], label='Lyft', color='red', alpha=0.7)\n",
    "plt.xlabel('Day of the Month')\n",
    "plt.ylabel('Number of Rides')\n",
    "plt.title('Distribution of Rides by Day')\n",
    "plt.legend()\n",
    "plt.show()"
   ]
  },
  {
   "cell_type": "code",
   "execution_count": 149,
   "id": "3cac5222",
   "metadata": {},
   "outputs": [],
   "source": [
    "monthly_counts = df_can.groupby([df_can['timestamp'].dt.month, 'cab_type'])['id'].count().unstack().fillna(0)"
   ]
  },
  {
   "cell_type": "code",
   "execution_count": 150,
   "id": "62f038e6",
   "metadata": {},
   "outputs": [
    {
     "data": {
      "image/png": "[encoded data removed]",
      "text/plain": [
       "<Figure size 1000x500 with 1 Axes>"
      ]
     },
     "metadata": {},
     "output_type": "display_data"
    }
   ],
   "source": [
    "plt.figure(figsize=(10, 5))\n",
    "sns.barplot(x=monthly_counts.index, y=monthly_counts['Uber'], label='Uber', color='black')\n",
    "sns.barplot(x=monthly_counts.index, y=monthly_counts['Lyft'], label='Lyft', color='red', alpha=0.7)\n",
    "plt.xlabel('Month')\n",
    "plt.ylabel('Number of Rides')\n",
    "plt.title('Distribution of Rides by Month')\n",
    "plt.legend()\n",
    "plt.show()"
   ]
  },
  {
   "cell_type": "code",
   "execution_count": 152,
   "id": "39696547",
   "metadata": {},
   "outputs": [],
   "source": [
    "source_counts = df_can.groupby(['source', 'cab_type'])['id'].count().unstack().fillna(0)"
   ]
  },
  {
   "cell_type": "code",
   "execution_count": 153,
   "id": "a3b54658",
   "metadata": {},
   "outputs": [
    {
     "data": {
      "image/png": "[encoded data removed]",
      "text/plain": [
       "<Figure size 1000x500 with 1 Axes>"
      ]
     },
     "metadata": {},
     "output_type": "display_data"
    }
   ],
   "source": [
    "plt.figure(figsize=(10, 5))\n",
    "sns.barplot(x=source_counts.index, y=source_counts['Uber'], label='Uber', color='black')\n",
    "sns.barplot(x=source_counts.index, y=source_counts['Lyft'], label='Lyft', color='red', alpha=0.7)\n",
    "plt.xlabel('Source Location')\n",
    "plt.ylabel('Number of Rides')\n",
    "plt.title('Distribution of Rides by Source Location')\n",
    "plt.xticks(rotation=90)\n",
    "plt.legend()\n",
    "plt.show()"
   ]
  },
  {
   "cell_type": "code",
   "execution_count": 154,
   "id": "492afa4d",
   "metadata": {},
   "outputs": [],
   "source": [
    "destination_counts = df_can.groupby(['destination', 'cab_type'])['id'].count().unstack().fillna(0)"
   ]
  },
  {
   "cell_type": "code",
   "execution_count": 157,
   "id": "e92f3368",
   "metadata": {},
   "outputs": [
    {
     "data": {
      "image/png": "[encoded data removed]",
      "text/plain": [
       "<Figure size 1000x500 with 1 Axes>"
      ]
     },
     "metadata": {},
     "output_type": "display_data"
    }
   ],
   "source": [
    "plt.figure(figsize=(10, 5))\n",
    "sns.barplot(x=destination_counts.index, y=destination_counts['Uber'], label='Uber', color='black')\n",
    "sns.barplot(x=destination_counts.index, y=destination_counts['Lyft'], label='Lyft', color='red', alpha=0.7)\n",
    "plt.xlabel('Destination Location')\n",
    "plt.ylabel('Number of Rides')\n",
    "plt.title('Distribution of Rides by Destination Location')\n",
    "plt.xticks(rotation=90)\n",
    "plt.legend()\n",
    "plt.show()"
   ]
  },
  {
   "cell_type": "code",
   "execution_count": 158,
   "id": "933497de",
   "metadata": {},
   "outputs": [],
   "source": [
    "df_can.drop(['id', 'timestamp', 'datetime', 'timezone', 'source', 'destination', 'product_id','name', 'distance', \n",
    "             'surge_multiplier', 'latitude', 'longitude', 'temperature', 'apparentTemperature', 'short_summary', 'long_summary',\n",
    "            'precipIntensity', 'precipProbability', 'humidity', 'windSpeed', 'windGust', 'windGustTime', 'visibility',\n",
    "             'temperatureHigh', 'temperatureHighTime', 'temperatureLow', 'temperatureLowTime', 'apparentTemperatureHigh', 'apparentTemperatureHighTime',\n",
    "            'apparentTemperatureLow', 'apparentTemperatureLowTime', 'icon', 'dewPoint', 'pressure', 'windBearing', 'cloudCover', 'uvIndex', 'visibility.1', 'ozone',\n",
    "            'sunriseTime', 'sunsetTime', 'moonPhase', 'temperatureMinTime', 'temperatureMaxTime', 'apparentTemperatureMinTime', 'apparentTemperatureMaxTime'], axis = 1, inplace = True)"
   ]
  },
  {
   "cell_type": "code",
   "execution_count": 159,
   "id": "dc0f580c",
   "metadata": {},
   "outputs": [
    {
     "data": {
      "text/html": [
       "<div>\n",
       "<style scoped>\n",
       "    .dataframe tbody tr th:only-of-type {\n",
       "        vertical-align: middle;\n",
       "    }\n",
       "\n",
       "    .dataframe tbody tr th {\n",
       "        vertical-align: top;\n",
       "    }\n",
       "\n",
       "    .dataframe thead th {\n",
       "        text-align: right;\n",
       "    }\n",
       "</style>\n",
       "<table border=\"1\" class=\"dataframe\">\n",
       "  <thead>\n",
       "    <tr style=\"text-align: right;\">\n",
       "      <th></th>\n",
       "      <th>hour</th>\n",
       "      <th>day</th>\n",
       "      <th>month</th>\n",
       "      <th>cab_type</th>\n",
       "      <th>price</th>\n",
       "      <th>precipIntensityMax</th>\n",
       "      <th>uvIndexTime</th>\n",
       "      <th>temperatureMin</th>\n",
       "      <th>temperatureMax</th>\n",
       "      <th>apparentTemperatureMin</th>\n",
       "      <th>apparentTemperatureMax</th>\n",
       "    </tr>\n",
       "  </thead>\n",
       "  <tbody>\n",
       "    <tr>\n",
       "      <th>0</th>\n",
       "      <td>9</td>\n",
       "      <td>16</td>\n",
       "      <td>12</td>\n",
       "      <td>Lyft</td>\n",
       "      <td>5.0</td>\n",
       "      <td>0.1276</td>\n",
       "      <td>1544979600</td>\n",
       "      <td>39.89</td>\n",
       "      <td>43.68</td>\n",
       "      <td>33.73</td>\n",
       "      <td>38.07</td>\n",
       "    </tr>\n",
       "    <tr>\n",
       "      <th>1</th>\n",
       "      <td>2</td>\n",
       "      <td>27</td>\n",
       "      <td>11</td>\n",
       "      <td>Lyft</td>\n",
       "      <td>11.0</td>\n",
       "      <td>0.1300</td>\n",
       "      <td>1543251600</td>\n",
       "      <td>40.49</td>\n",
       "      <td>47.30</td>\n",
       "      <td>36.20</td>\n",
       "      <td>43.92</td>\n",
       "    </tr>\n",
       "    <tr>\n",
       "      <th>2</th>\n",
       "      <td>1</td>\n",
       "      <td>28</td>\n",
       "      <td>11</td>\n",
       "      <td>Lyft</td>\n",
       "      <td>7.0</td>\n",
       "      <td>0.1064</td>\n",
       "      <td>1543338000</td>\n",
       "      <td>35.36</td>\n",
       "      <td>47.55</td>\n",
       "      <td>31.04</td>\n",
       "      <td>44.12</td>\n",
       "    </tr>\n",
       "    <tr>\n",
       "      <th>3</th>\n",
       "      <td>4</td>\n",
       "      <td>30</td>\n",
       "      <td>11</td>\n",
       "      <td>Lyft</td>\n",
       "      <td>26.0</td>\n",
       "      <td>0.0000</td>\n",
       "      <td>1543507200</td>\n",
       "      <td>34.67</td>\n",
       "      <td>45.03</td>\n",
       "      <td>30.30</td>\n",
       "      <td>38.53</td>\n",
       "    </tr>\n",
       "    <tr>\n",
       "      <th>4</th>\n",
       "      <td>3</td>\n",
       "      <td>29</td>\n",
       "      <td>11</td>\n",
       "      <td>Lyft</td>\n",
       "      <td>9.0</td>\n",
       "      <td>0.0001</td>\n",
       "      <td>1543420800</td>\n",
       "      <td>33.10</td>\n",
       "      <td>42.18</td>\n",
       "      <td>29.11</td>\n",
       "      <td>35.75</td>\n",
       "    </tr>\n",
       "  </tbody>\n",
       "</table>\n",
       "</div>"
      ],
      "text/plain": [
       "   hour  day  month cab_type  price  precipIntensityMax  uvIndexTime  \\\n",
       "0     9   16     12     Lyft    5.0              0.1276   1544979600   \n",
       "1     2   27     11     Lyft   11.0              0.1300   1543251600   \n",
       "2     1   28     11     Lyft    7.0              0.1064   1543338000   \n",
       "3     4   30     11     Lyft   26.0              0.0000   1543507200   \n",
       "4     3   29     11     Lyft    9.0              0.0001   1543420800   \n",
       "\n",
       "   temperatureMin  temperatureMax  apparentTemperatureMin  \\\n",
       "0           39.89           43.68                   33.73   \n",
       "1           40.49           47.30                   36.20   \n",
       "2           35.36           47.55                   31.04   \n",
       "3           34.67           45.03                   30.30   \n",
       "4           33.10           42.18                   29.11   \n",
       "\n",
       "   apparentTemperatureMax  \n",
       "0                   38.07  \n",
       "1                   43.92  \n",
       "2                   44.12  \n",
       "3                   38.53  \n",
       "4                   35.75  "
      ]
     },
     "execution_count": 159,
     "metadata": {},
     "output_type": "execute_result"
    }
   ],
   "source": [
    "df_can.head()"
   ]
  },
  {
   "cell_type": "code",
   "execution_count": 160,
   "id": "f7be70d1",
   "metadata": {},
   "outputs": [
    {
     "name": "stdout",
     "output_type": "stream",
     "text": [
      "['Lyft' 'Uber']\n"
     ]
    }
   ],
   "source": [
    "unique_cab_types = df_can['cab_type'].unique()\n",
    "print(unique_cab_types)"
   ]
  },
  {
   "cell_type": "code",
   "execution_count": 161,
   "id": "09bb13a3",
   "metadata": {},
   "outputs": [],
   "source": [
    "missing_values = df_can.isnull().sum()"
   ]
  },
  {
   "cell_type": "code",
   "execution_count": 162,
   "id": "3a2cfdc2",
   "metadata": {},
   "outputs": [
    {
     "name": "stdout",
     "output_type": "stream",
     "text": [
      "Columns with missing values:\n"
     ]
    }
   ],
   "source": [
    "print(\"Columns with missing values:\")"
   ]
  },
  {
   "cell_type": "code",
   "execution_count": 163,
   "id": "0c373dc5",
   "metadata": {},
   "outputs": [
    {
     "name": "stdout",
     "output_type": "stream",
     "text": [
      "Series([], dtype: int64)\n"
     ]
    }
   ],
   "source": [
    "print(missing_values[missing_values > 0])"
   ]
  },
  {
   "cell_type": "code",
   "execution_count": 164,
   "id": "85c97de6",
   "metadata": {},
   "outputs": [],
   "source": [
    "cab_type_counts = df_can['cab_type'].value_counts()"
   ]
  },
  {
   "cell_type": "code",
   "execution_count": 165,
   "id": "72089dd5",
   "metadata": {},
   "outputs": [
    {
     "name": "stdout",
     "output_type": "stream",
     "text": [
      "Counts of each 'cab_type':\n",
      "cab_type\n",
      "Uber    30827\n",
      "Lyft    29565\n",
      "Name: count, dtype: int64\n"
     ]
    }
   ],
   "source": [
    "print(\"Counts of each 'cab_type':\")\n",
    "print(cab_type_counts)"
   ]
  },
  {
   "cell_type": "code",
   "execution_count": 166,
   "id": "105e2b6f",
   "metadata": {},
   "outputs": [],
   "source": [
    "total_count = cab_type_counts.sum()\n",
    "percentage_distribution = (cab_type_counts / total_count) * 100\n",
    "summary_statistics = cab_type_counts.describe()"
   ]
  },
  {
   "cell_type": "code",
   "execution_count": 167,
   "id": "d83c3dcd",
   "metadata": {},
   "outputs": [
    {
     "name": "stdout",
     "output_type": "stream",
     "text": [
      "\n",
      "Summary Statistics:\n",
      "Total Count: 60392\n",
      "Percentage Distribution:\n",
      "cab_type\n",
      "Uber    51.04484\n",
      "Lyft    48.95516\n",
      "Name: count, dtype: float64\n",
      "\n",
      "Summary Statistics for Count:\n",
      "count        2.000000\n",
      "mean     30196.000000\n",
      "std        892.368758\n",
      "min      29565.000000\n",
      "25%      29880.500000\n",
      "50%      30196.000000\n",
      "75%      30511.500000\n",
      "max      30827.000000\n",
      "Name: count, dtype: float64\n"
     ]
    }
   ],
   "source": [
    "print(\"\\nSummary Statistics:\")\n",
    "print(f\"Total Count: {total_count}\")\n",
    "print(f\"Percentage Distribution:\\n{percentage_distribution}\")\n",
    "print(\"\\nSummary Statistics for Count:\")\n",
    "print(summary_statistics)"
   ]
  },
  {
   "cell_type": "code",
   "execution_count": 168,
   "id": "ae303b99",
   "metadata": {},
   "outputs": [
    {
     "data": {
      "text/html": [
       "<div>\n",
       "<style scoped>\n",
       "    .dataframe tbody tr th:only-of-type {\n",
       "        vertical-align: middle;\n",
       "    }\n",
       "\n",
       "    .dataframe tbody tr th {\n",
       "        vertical-align: top;\n",
       "    }\n",
       "\n",
       "    .dataframe thead th {\n",
       "        text-align: right;\n",
       "    }\n",
       "</style>\n",
       "<table border=\"1\" class=\"dataframe\">\n",
       "  <thead>\n",
       "    <tr style=\"text-align: right;\">\n",
       "      <th></th>\n",
       "      <th>hour</th>\n",
       "      <th>day</th>\n",
       "      <th>month</th>\n",
       "      <th>price</th>\n",
       "      <th>precipIntensityMax</th>\n",
       "      <th>uvIndexTime</th>\n",
       "      <th>temperatureMin</th>\n",
       "      <th>temperatureMax</th>\n",
       "      <th>apparentTemperatureMin</th>\n",
       "      <th>apparentTemperatureMax</th>\n",
       "    </tr>\n",
       "    <tr>\n",
       "      <th>cab_type</th>\n",
       "      <th></th>\n",
       "      <th></th>\n",
       "      <th></th>\n",
       "      <th></th>\n",
       "      <th></th>\n",
       "      <th></th>\n",
       "      <th></th>\n",
       "      <th></th>\n",
       "      <th></th>\n",
       "      <th></th>\n",
       "    </tr>\n",
       "  </thead>\n",
       "  <tbody>\n",
       "    <tr>\n",
       "      <th>Lyft</th>\n",
       "      <td>341245</td>\n",
       "      <td>533113</td>\n",
       "      <td>342165</td>\n",
       "      <td>514402.5</td>\n",
       "      <td>1104.5524</td>\n",
       "      <td>45649228222800</td>\n",
       "      <td>988981.39</td>\n",
       "      <td>1336499.33</td>\n",
       "      <td>878659.72</td>\n",
       "      <td>1238575.42</td>\n",
       "    </tr>\n",
       "    <tr>\n",
       "      <th>Uber</th>\n",
       "      <td>356909</td>\n",
       "      <td>553301</td>\n",
       "      <td>356859</td>\n",
       "      <td>485587.0</td>\n",
       "      <td>1141.9594</td>\n",
       "      <td>47597804517600</td>\n",
       "      <td>1032010.26</td>\n",
       "      <td>1394116.26</td>\n",
       "      <td>917626.26</td>\n",
       "      <td>1292403.60</td>\n",
       "    </tr>\n",
       "  </tbody>\n",
       "</table>\n",
       "</div>"
      ],
      "text/plain": [
       "            hour     day   month     price  precipIntensityMax  \\\n",
       "cab_type                                                         \n",
       "Lyft      341245  533113  342165  514402.5           1104.5524   \n",
       "Uber      356909  553301  356859  485587.0           1141.9594   \n",
       "\n",
       "             uvIndexTime  temperatureMin  temperatureMax  \\\n",
       "cab_type                                                   \n",
       "Lyft      45649228222800       988981.39      1336499.33   \n",
       "Uber      47597804517600      1032010.26      1394116.26   \n",
       "\n",
       "          apparentTemperatureMin  apparentTemperatureMax  \n",
       "cab_type                                                  \n",
       "Lyft                   878659.72              1238575.42  \n",
       "Uber                   917626.26              1292403.60  "
      ]
     },
     "execution_count": 168,
     "metadata": {},
     "output_type": "execute_result"
    }
   ],
   "source": [
    "df_cab_type = df_can.groupby('cab_type', axis = 0).sum()\n",
    "df_cab_type"
   ]
  },
  {
   "cell_type": "code",
   "execution_count": null,
   "id": "8944d898",
   "metadata": {},
   "outputs": [],
   "source": []
  }
 ],
 "metadata": {
  "kernelspec": {
   "display_name": "Python 3 (ipykernel)",
   "language": "python",
   "name": "python3"
  },
  "language_info": {
   "codemirror_mode": {
    "name": "ipython",
    "version": 3
   },
   "file_extension": ".py",
   "mimetype": "text/x-python",
   "name": "python",
   "nbconvert_exporter": "python",
   "pygments_lexer": "ipython3",
   "version": "3.11.4"
  }
 },
 "nbformat": 4,
 "nbformat_minor": 5
}
